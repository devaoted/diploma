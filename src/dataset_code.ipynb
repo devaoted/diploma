{
 "cells": [
  {
   "cell_type": "markdown",
   "id": "3e20511a",
   "metadata": {},
   "source": [
    "### Библиотеки"
   ]
  },
  {
   "cell_type": "code",
   "execution_count": 1,
   "id": "0ef3e350",
   "metadata": {},
   "outputs": [],
   "source": [
    "import warnings \n",
    "warnings.filterwarnings('ignore')\n",
    "import shutil"
   ]
  },
  {
   "cell_type": "code",
   "execution_count": 2,
   "id": "df36ba2e",
   "metadata": {},
   "outputs": [],
   "source": [
    "import os \n",
    "import random \n",
    "import cv2"
   ]
  },
  {
   "cell_type": "markdown",
   "id": "5811b95c",
   "metadata": {},
   "source": [
    "### Функции для создания сета "
   ]
  },
  {
   "cell_type": "code",
   "execution_count": 3,
   "id": "1e5b084b",
   "metadata": {},
   "outputs": [],
   "source": [
    "# Создаем директории\n",
    "def creat_dirs():\n",
    "    \n",
    "    if os.path.exists('frames') == False:\n",
    "        \n",
    "        os.mkdir('frames')\n",
    "        \n",
    "        os.mkdir('frames/train')\n",
    "        os.mkdir('frames/test')\n",
    "        \n",
    "        os.mkdir('frames/train/fight')\n",
    "        os.mkdir('frames/train/noFight')\n",
    "        \n",
    "        os.mkdir('frames/test/fight')\n",
    "        os.mkdir('frames/test/noFight')\n",
    "        \n",
    "    \n",
    "    else:\n",
    "        \n",
    "        shutil.rmtree('frames')\n",
    "        creat_dirs()\n",
    "        \n",
    "\n",
    "# Для одного видео        \n",
    "def creat_frames_for_one_video(name,source_directorie,aim_directorie,number_of_frames):\n",
    "    \n",
    "    vidcap = cv2.VideoCapture(source_directorie + name)\n",
    "    fps = vidcap.get(cv2.CAP_PROP_FPS)\n",
    "    #print(fps)\n",
    "    n=number_of_frames\n",
    "    total_frames = vidcap.get(cv2.CAP_PROP_FRAME_COUNT)\n",
    "    time_line = total_frames / fps\n",
    "\n",
    "    frames_step = total_frames/n\n",
    "    time_line_step=time_line/n\n",
    "    #print(time_line_step)\n",
    "    \n",
    "    for i in range(n):        \n",
    "        vidcap.set(1,i*frames_step)\n",
    "        success,image = vidcap.read()\n",
    "    \n",
    "    \n",
    "        # Задаем шейп\n",
    "        width = image.shape[1] \n",
    "        height = image.shape[0] \n",
    "        image=cv2.resize(image, (width, height))\n",
    "        \n",
    "        \n",
    "        cv2.imwrite(aim_directorie + str(i)+'.jpg',image)\n",
    "    \n",
    "    vidcap.release()\n",
    "    \n",
    "    \n",
    "    \n",
    "\n",
    "    \n",
    "    \n",
    "# Работа с кадрами\n",
    "def creat_all_frames(names, source_directorie, aim_directorie,number_of_frames):\n",
    "    \n",
    "    for i in names:\n",
    "        os.mkdir(aim_directorie+i[:-4])\n",
    "        creat_frames_for_one_video(i, source_directorie, aim_directorie+i[:-4]+'/',number_of_frames)\n",
    "        \n",
    "        \n",
    "        \n",
    "        \n",
    "# Создания датасета для сетей\n",
    "def creat_dataset(number_of_frames=5, train_percent=0.9, test_percent=0.1):\n",
    "    \n",
    "    # Создаем директории\n",
    "    creat_dirs()\n",
    "    # Количество для трейна, вала и теста\n",
    "    number_of_train = int(train_percent*100)\n",
    "    number_of_val = 100 - number_of_train\n",
    "    \n",
    "    \n",
    "    # Имена файлов с драками и без \n",
    "    fight_file_names = os.listdir('videos/fights')\n",
    "    noFight_file_names = os.listdir('videos/noFights')\n",
    "    \n",
    "    # Имена для выборов для драк\n",
    "    figth_train = random.sample(fight_file_names, number_of_train)\n",
    "    fight_test = list(set(fight_file_names) - set(figth_train) )\n",
    "    \n",
    "    \n",
    "    # Имена для выборов для без драк\n",
    "    \n",
    "    noFigth_train = random.sample(noFight_file_names, number_of_train)\n",
    "    noFigth_test = list(set(noFight_file_names) - set(noFigth_train))\n",
    "    \n",
    "    # Для драк \n",
    "    creat_all_frames(figth_train, 'videos/fights/', 'frames/train/fight/', number_of_frames)\n",
    "    creat_all_frames(fight_test, 'videos/fights/', 'frames/test/fight/', number_of_frames)\n",
    "    \n",
    "    # Для без драк\n",
    "    creat_all_frames(noFigth_train, 'videos/noFights/', 'frames/train/noFight/', number_of_frames)\n",
    "    creat_all_frames(noFigth_test, 'videos/noFights/', 'frames/test/noFight/', number_of_frames)\n",
    "\n",
    "\n",
    "\n",
    "    \n",
    "    \n",
    "    \n",
    "    "
   ]
  },
  {
   "cell_type": "code",
   "execution_count": 4,
   "id": "e04a7f08",
   "metadata": {},
   "outputs": [],
   "source": [
    "creat_dataset()"
   ]
  },
  {
   "cell_type": "code",
   "execution_count": null,
   "id": "76e3583f",
   "metadata": {},
   "outputs": [],
   "source": []
  },
  {
   "cell_type": "code",
   "execution_count": null,
   "id": "ad4eba75",
   "metadata": {},
   "outputs": [],
   "source": []
  },
  {
   "cell_type": "code",
   "execution_count": null,
   "id": "496d2a5b",
   "metadata": {},
   "outputs": [],
   "source": []
  },
  {
   "cell_type": "code",
   "execution_count": null,
   "id": "3e69490d",
   "metadata": {},
   "outputs": [],
   "source": []
  },
  {
   "cell_type": "code",
   "execution_count": null,
   "id": "67fd27ff",
   "metadata": {},
   "outputs": [],
   "source": []
  }
 ],
 "metadata": {
  "kernelspec": {
   "display_name": "Python 3",
   "language": "python",
   "name": "python3"
  },
  "language_info": {
   "codemirror_mode": {
    "name": "ipython",
    "version": 3
   },
   "file_extension": ".py",
   "mimetype": "text/x-python",
   "name": "python",
   "nbconvert_exporter": "python",
   "pygments_lexer": "ipython3",
   "version": "3.8.8"
  }
 },
 "nbformat": 4,
 "nbformat_minor": 5
}
